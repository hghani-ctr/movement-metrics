{
 "cells": [
  {
   "cell_type": "code",
   "execution_count": 1,
   "metadata": {},
   "outputs": [
    {
     "name": "stderr",
     "output_type": "stream",
     "text": [
      "You can find the source for `wmfdata` at https://github.com/neilpquinn/wmfdata\n"
     ]
    }
   ],
   "source": [
    "from wmfdata import hive"
   ]
  },
  {
   "cell_type": "code",
   "execution_count": 3,
   "metadata": {},
   "outputs": [
    {
     "data": {
      "text/html": [
       "<div>\n",
       "<style scoped>\n",
       "    .dataframe tbody tr th:only-of-type {\n",
       "        vertical-align: middle;\n",
       "    }\n",
       "\n",
       "    .dataframe tbody tr th {\n",
       "        vertical-align: top;\n",
       "    }\n",
       "\n",
       "    .dataframe thead th {\n",
       "        text-align: right;\n",
       "    }\n",
       "</style>\n",
       "<table border=\"1\" class=\"dataframe\">\n",
       "  <thead>\n",
       "    <tr style=\"text-align: right;\">\n",
       "      <th></th>\n",
       "      <th>col_name</th>\n",
       "      <th>data_type</th>\n",
       "      <th>comment</th>\n",
       "    </tr>\n",
       "  </thead>\n",
       "  <tbody>\n",
       "    <tr>\n",
       "      <th>0</th>\n",
       "      <td>wiki_db</td>\n",
       "      <td>string</td>\n",
       "      <td>The wiki database of origin</td>\n",
       "    </tr>\n",
       "    <tr>\n",
       "      <th>1</th>\n",
       "      <td>country_code</td>\n",
       "      <td>string</td>\n",
       "      <td>The 2-letter ISO country code this group of ed...</td>\n",
       "    </tr>\n",
       "    <tr>\n",
       "      <th>2</th>\n",
       "      <td>user_fingerprint_or_id</td>\n",
       "      <td>string</td>\n",
       "      <td>If an anonymous user, this is the IP + UA, oth...</td>\n",
       "    </tr>\n",
       "    <tr>\n",
       "      <th>3</th>\n",
       "      <td>user_is_anonymous</td>\n",
       "      <td>boolean</td>\n",
       "      <td>Whether or not this user edited this group of ...</td>\n",
       "    </tr>\n",
       "    <tr>\n",
       "      <th>4</th>\n",
       "      <td>date</td>\n",
       "      <td>string</td>\n",
       "      <td>The YYYY-MM-DD date for this group of edits</td>\n",
       "    </tr>\n",
       "    <tr>\n",
       "      <th>5</th>\n",
       "      <td>edit_count</td>\n",
       "      <td>bigint</td>\n",
       "      <td>The total count of edits for this grouping</td>\n",
       "    </tr>\n",
       "    <tr>\n",
       "      <th>6</th>\n",
       "      <td>namespace_zero_edit_count</td>\n",
       "      <td>bigint</td>\n",
       "      <td>The total count of edits to namespace zero for...</td>\n",
       "    </tr>\n",
       "    <tr>\n",
       "      <th>7</th>\n",
       "      <td>month</td>\n",
       "      <td>string</td>\n",
       "      <td>The month in YYYY-MM format, all edits from th...</td>\n",
       "    </tr>\n",
       "    <tr>\n",
       "      <th>8</th>\n",
       "      <td></td>\n",
       "      <td>None</td>\n",
       "      <td>None</td>\n",
       "    </tr>\n",
       "    <tr>\n",
       "      <th>9</th>\n",
       "      <td># Partition Information</td>\n",
       "      <td>None</td>\n",
       "      <td>None</td>\n",
       "    </tr>\n",
       "    <tr>\n",
       "      <th>10</th>\n",
       "      <td># col_name</td>\n",
       "      <td>data_type</td>\n",
       "      <td>comment</td>\n",
       "    </tr>\n",
       "    <tr>\n",
       "      <th>11</th>\n",
       "      <td></td>\n",
       "      <td>None</td>\n",
       "      <td>None</td>\n",
       "    </tr>\n",
       "    <tr>\n",
       "      <th>12</th>\n",
       "      <td>month</td>\n",
       "      <td>string</td>\n",
       "      <td>The month in YYYY-MM format, all edits from th...</td>\n",
       "    </tr>\n",
       "  </tbody>\n",
       "</table>\n",
       "</div>"
      ],
      "text/plain": [
       "                     col_name             data_type  \\\n",
       "0                     wiki_db                string   \n",
       "1                country_code                string   \n",
       "2      user_fingerprint_or_id                string   \n",
       "3           user_is_anonymous               boolean   \n",
       "4                        date                string   \n",
       "5                  edit_count                bigint   \n",
       "6   namespace_zero_edit_count                bigint   \n",
       "7                       month                string   \n",
       "8                                              None   \n",
       "9     # Partition Information                  None   \n",
       "10     # col_name              data_type              \n",
       "11                                             None   \n",
       "12                      month                string   \n",
       "\n",
       "                                              comment  \n",
       "0                         The wiki database of origin  \n",
       "1   The 2-letter ISO country code this group of ed...  \n",
       "2   If an anonymous user, this is the IP + UA, oth...  \n",
       "3   Whether or not this user edited this group of ...  \n",
       "4         The YYYY-MM-DD date for this group of edits  \n",
       "5          The total count of edits for this grouping  \n",
       "6   The total count of edits to namespace zero for...  \n",
       "7   The month in YYYY-MM format, all edits from th...  \n",
       "8                                                None  \n",
       "9                                                None  \n",
       "10                               comment               \n",
       "11                                               None  \n",
       "12  The month in YYYY-MM format, all edits from th...  "
      ]
     },
     "execution_count": 3,
     "metadata": {},
     "output_type": "execute_result"
    }
   ],
   "source": [
    "hive.run(\"describe wmf.geoeditors_daily\")"
   ]
  },
  {
   "cell_type": "code",
   "execution_count": 4,
   "metadata": {},
   "outputs": [],
   "source": [
    "gn_countries = (\n",
    "    \"AD\", \"AL\", \"AT\", \"AX\", \"BA\", \"BE\", \"BG\", \"CH\", \"CY\", \"CZ\",\n",
    "    \"DE\", \"DK\", \"EE\", \"ES\", \"FI\", \"FO\", \"FR\", \"FX\", \"GB\", \"GG\",\n",
    "    \"GI\", \"GL\", \"GR\", \"HR\", \"HU\", \"IE\", \"IL\", \"IM\", \"IS\", \"IT\",\n",
    "    \"JE\", \"LI\", \"LU\", \"LV\", \"MC\", \"MD\", \"ME\", \"MK\", \"MT\", \"NL\",\n",
    "    \"NO\", \"PL\", \"PT\", \"RO\", \"RS\", \"RU\", \"SE\", \"SI\", \"SJ\", \"SK\",\n",
    "    \"SM\", \"TR\", \"VA\", \"AU\", \"CA\", \"HK\", \"MO\", \"NZ\", \"JP\", \"SG\",\n",
    "    \"KR\", \"TW\", \"US\"\n",
    ")"
   ]
  },
  {
   "cell_type": "code",
   "execution_count": 5,
   "metadata": {},
   "outputs": [],
   "source": [
    "gs_edits = hive.run(\"\"\"\n",
    "select \n",
    "    wiki_db,\n",
    "    country_code,\n",
    "    sum(edit_count) as edits\n",
    "from wmf.geoeditors_daily\n",
    "where\n",
    "    month = \"{month}\" and\n",
    "    country_code not in {gn_countries}\n",
    "group by wiki_db, country_code\n",
    "\"\"\".format(\n",
    "    gn_countries=repr(gn_countries),\n",
    "    month=\"2018-08\"\n",
    "))"
   ]
  },
  {
   "cell_type": "code",
   "execution_count": 12,
   "metadata": {},
   "outputs": [],
   "source": [
    "corrected = gs_edits.query(\"country_code != '--'\")"
   ]
  },
  {
   "cell_type": "code",
   "execution_count": 17,
   "metadata": {},
   "outputs": [
    {
     "data": {
      "text/plain": [
       "2810226"
      ]
     },
     "execution_count": 17,
     "metadata": {},
     "output_type": "execute_result"
    }
   ],
   "source": [
    "corrected[\"edits\"].sum()"
   ]
  },
  {
   "cell_type": "code",
   "execution_count": null,
   "metadata": {},
   "outputs": [],
   "source": []
  },
  {
   "cell_type": "code",
   "execution_count": null,
   "metadata": {},
   "outputs": [],
   "source": []
  },
  {
   "cell_type": "code",
   "execution_count": 14,
   "metadata": {},
   "outputs": [
    {
     "data": {
      "text/plain": [
       "country_code\n",
       "IN    455534\n",
       "BR    257355\n",
       "UA    245489\n",
       "CN    130853\n",
       "IR    117767\n",
       "AR    114248\n",
       "MX    102353\n",
       "ID     98675\n",
       "VN     84951\n",
       "MY     77847\n",
       "PH     76181\n",
       "TH     75918\n",
       "CO     74001\n",
       "AM     65488\n",
       "CL     56734\n",
       "PE     54470\n",
       "BY     49807\n",
       "PK     43851\n",
       "AZ     38364\n",
       "SA     37369\n",
       "Name: edits, dtype: int64"
      ]
     },
     "execution_count": 14,
     "metadata": {},
     "output_type": "execute_result"
    }
   ],
   "source": [
    "corrected.groupby(\"country_code\")[\"edits\"].sum().sort_values(ascending=False).head(20)"
   ]
  },
  {
   "cell_type": "code",
   "execution_count": 15,
   "metadata": {},
   "outputs": [
    {
     "data": {
      "text/plain": [
       "wiki_db\n",
       "enwiki          609822\n",
       "eswiki          363575\n",
       "wikidatawiki    271665\n",
       "commonswiki     236079\n",
       "ptwiki          180609\n",
       "ukwiki          114743\n",
       "arwiki          106929\n",
       "fawiki           86414\n",
       "ruwiki           77969\n",
       "zhwiki           59057\n",
       "viwiki           58045\n",
       "idwiki           48513\n",
       "thwiki           43593\n",
       "hywiki           42523\n",
       "frwiki           26640\n",
       "azwiki           22153\n",
       "mswiki           21175\n",
       "hiwiki           20926\n",
       "enwiktionary     20847\n",
       "tewiki           20477\n",
       "Name: edits, dtype: int64"
      ]
     },
     "execution_count": 15,
     "metadata": {},
     "output_type": "execute_result"
    }
   ],
   "source": [
    "corrected.groupby(\"wiki_db\")[\"edits\"].sum().sort_values(ascending=False).head(20)"
   ]
  },
  {
   "cell_type": "code",
   "execution_count": 21,
   "metadata": {},
   "outputs": [
    {
     "data": {
      "text/plain": [
       "7301671"
      ]
     },
     "execution_count": 21,
     "metadata": {},
     "output_type": "execute_result"
    }
   ],
   "source": [
    "gs_edits.query(\"wiki_db != 'commonswiki'\")[\"edits\"].sum()"
   ]
  },
  {
   "cell_type": "code",
   "execution_count": 22,
   "metadata": {},
   "outputs": [
    {
     "data": {
      "text/plain": [
       "2574147"
      ]
     },
     "execution_count": 22,
     "metadata": {},
     "output_type": "execute_result"
    }
   ],
   "source": [
    "corrected.query(\"wiki_db != 'commonswiki'\")[\"edits\"].sum()"
   ]
  },
  {
   "cell_type": "code",
   "execution_count": null,
   "metadata": {},
   "outputs": [],
   "source": []
  }
 ],
 "metadata": {
  "kernelspec": {
   "display_name": "Python 3",
   "language": "python",
   "name": "python3"
  },
  "language_info": {
   "codemirror_mode": {
    "name": "ipython",
    "version": 3
   },
   "file_extension": ".py",
   "mimetype": "text/x-python",
   "name": "python",
   "nbconvert_exporter": "python",
   "pygments_lexer": "ipython3",
   "version": "3.5.3"
  }
 },
 "nbformat": 4,
 "nbformat_minor": 2
}
