{
 "cells": [
  {
   "cell_type": "code",
   "execution_count": 1,
   "metadata": {},
   "outputs": [
    {
     "name": "stderr",
     "output_type": "stream",
     "text": [
      "You can find the source for `wmfdata` at https://github.com/neilpquinn/wmfdata\n"
     ]
    }
   ],
   "source": [
    "import pandas as pd\n",
    "from wmfdata import hive\n",
    "from wmfdata.utils import pct_str"
   ]
  },
  {
   "cell_type": "markdown",
   "metadata": {},
   "source": [
    "## Global South new editor retention"
   ]
  },
  {
   "cell_type": "code",
   "execution_count": 2,
   "metadata": {},
   "outputs": [
    {
     "data": {
      "text/html": [
       "<div>\n",
       "<style scoped>\n",
       "    .dataframe tbody tr th:only-of-type {\n",
       "        vertical-align: middle;\n",
       "    }\n",
       "\n",
       "    .dataframe tbody tr th {\n",
       "        vertical-align: top;\n",
       "    }\n",
       "\n",
       "    .dataframe thead th {\n",
       "        text-align: right;\n",
       "    }\n",
       "</style>\n",
       "<table border=\"1\" class=\"dataframe\">\n",
       "  <thead>\n",
       "    <tr style=\"text-align: right;\">\n",
       "      <th></th>\n",
       "      <th>partition</th>\n",
       "    </tr>\n",
       "  </thead>\n",
       "  <tbody>\n",
       "    <tr>\n",
       "      <th>0</th>\n",
       "      <td>month=2018-11</td>\n",
       "    </tr>\n",
       "    <tr>\n",
       "      <th>1</th>\n",
       "      <td>month=2018-12</td>\n",
       "    </tr>\n",
       "    <tr>\n",
       "      <th>2</th>\n",
       "      <td>month=2019-01</td>\n",
       "    </tr>\n",
       "    <tr>\n",
       "      <th>3</th>\n",
       "      <td>month=2019-02</td>\n",
       "    </tr>\n",
       "    <tr>\n",
       "      <th>4</th>\n",
       "      <td>month=2019-03</td>\n",
       "    </tr>\n",
       "    <tr>\n",
       "      <th>5</th>\n",
       "      <td>month=2019-04</td>\n",
       "    </tr>\n",
       "    <tr>\n",
       "      <th>6</th>\n",
       "      <td>month=2019-05</td>\n",
       "    </tr>\n",
       "  </tbody>\n",
       "</table>\n",
       "</div>"
      ],
      "text/plain": [
       "       partition\n",
       "0  month=2018-11\n",
       "1  month=2018-12\n",
       "2  month=2019-01\n",
       "3  month=2019-02\n",
       "4  month=2019-03\n",
       "5  month=2019-04\n",
       "6  month=2019-05"
      ]
     },
     "execution_count": 2,
     "metadata": {},
     "output_type": "execute_result"
    }
   ],
   "source": [
    "hive.run(\"show partitions wmf.geoeditors_daily\")"
   ]
  },
  {
   "cell_type": "code",
   "execution_count": 5,
   "metadata": {},
   "outputs": [],
   "source": [
    "# The new_editor table must be updated for the cohort month (using 01b-new_editor_table.ipynb)\n",
    "# before this can be successfully run \n",
    "gs_new_editors = hive.run(\"\"\"\n",
    "select \n",
    "    user_name, \n",
    "    wiki,\n",
    "    1st_month_edits,\n",
    "    2nd_month_edits\n",
    "from neilpquinn.new_editors ne\n",
    "left join wmf.geoeditors_daily gd\n",
    "on\n",
    "    ne.user_id = gd.user_fingerprint_or_id and\n",
    "    ne.wiki = gd.wiki_db and\n",
    "    ne.cohort = gd.month\n",
    "left join canonical_data.countries cdc\n",
    "on gd.country_code = cdc.iso_code\n",
    "where\n",
    "    ne.cohort = \"{retention_cohort}\" and\n",
    "    gd.month = \"{retention_cohort}\" and\n",
    "    economic_region = \"Global South\"\n",
    "group by user_name, wiki, 1st_month_edits, 2nd_month_edits\n",
    "\"\"\".format(\n",
    "    **date_params\n",
    "))"
   ]
  },
  {
   "cell_type": "code",
   "execution_count": 6,
   "metadata": {},
   "outputs": [
    {
     "name": "stdout",
     "output_type": "stream",
     "text": [
      "4.30%\n"
     ]
    }
   ],
   "source": [
    "gs_second_mo_eds = gs_new_editors[lambda df: df[\"2nd_month_edits\"] >= 1]\n",
    "print(pct_str(len(gs_second_mo_eds) / len(gs_new_editors), decimals=2))"
   ]
  },
  {
   "cell_type": "markdown",
   "metadata": {},
   "source": [
    "# Prototyping integration into 02-calculation.ipynb"
   ]
  },
  {
   "cell_type": "code",
   "execution_count": 7,
   "metadata": {},
   "outputs": [],
   "source": [
    "# Metric month. The mediawiki_history snapshot must be from the metrics month or later.\n",
    "METRICS_MONTH_TEXT = \"2019-05\"\n",
    "MEDIAWIKI_HISTORY_SNAPSHOT = \"2019-05\""
   ]
  },
  {
   "cell_type": "code",
   "execution_count": 8,
   "metadata": {},
   "outputs": [],
   "source": [
    "metrics_month = pd.Period(METRICS_MONTH_TEXT)\n",
    "date_params = {\n",
    "    \"mediawiki_history_snapshot\": MEDIAWIKI_HISTORY_SNAPSHOT,\n",
    "    \"metrics_month\": str(metrics_month),\n",
    "    \"metrics_month_start\": str(metrics_month.start_time), \n",
    "    \"metrics_month_first_day\": str(metrics_month.asfreq(\"D\", how=\"start\")),\n",
    "    \"metrics_month_end\": str((metrics_month + 1).start_time),\n",
    "    \"metrics_month_last_day\": str(metrics_month.asfreq(\"D\", how=\"end\")),\n",
    "    \"api_metrics_month_first_day\": metrics_month.asfreq(\"D\", how=\"start\").strftime(\"%Y%m%d\"),\n",
    "    \"api_metrics_month_day_after\": (metrics_month + 1).asfreq(\"D\", how=\"start\").strftime(\"%Y%m%d\"),\n",
    "    \"metrics_prev_month\": str(metrics_month - 1),\n",
    "    \"retention_cohort\": str(metrics_month - 2)\n",
    "}"
   ]
  },
  {
   "cell_type": "code",
   "execution_count": 9,
   "metadata": {},
   "outputs": [
    {
     "data": {
      "text/plain": [
       "'2019-03'"
      ]
     },
     "execution_count": 9,
     "metadata": {},
     "output_type": "execute_result"
    }
   ],
   "source": [
    "date_params[\"retention_cohort\"]"
   ]
  },
  {
   "cell_type": "code",
   "execution_count": null,
   "metadata": {},
   "outputs": [],
   "source": [
    "hive.run(\"\"\"\n",
    "with gs_new_editors as (\n",
    "    select \n",
    "        user_name, \n",
    "        wiki,\n",
    "        1st_month_edits,\n",
    "        2nd_month_edits\n",
    "    from neilpquinn.new_editors ne`\n",
    "    left join wmf.geoeditors_daily gd\n",
    "    on\n",
    "        ne.user_id = gd.user_fingerprint_or_id and\n",
    "        ne.wiki = gd.wiki_db and\n",
    "        ne.cohort = gd.month\n",
    "    left join canonical_data.countries cdc\n",
    "    on gd.country_code = cdc.iso_code\n",
    "    where\n",
    "        ne.cohort = \"{retention_cohort}\" and\n",
    "        gd.month = \"{retention_cohort}\" and\n",
    "        economic_region = \"Global South\"\n",
    "    group by user_name, wiki, 1st_month_edits, 2nd_month_edits\n",
    "), \n",
    "select\n",
    "    \"{metrics_month_first_day}\" as month,\n",
    "    cast(2nd_month_edits >= 1 as int) / count(*) as global_south_new_editor_retention\n",
    "   \n",
    "\"\"\".format(\n",
    "    **date_params\n",
    "))"
   ]
  }
 ],
 "metadata": {
  "kernelspec": {
   "display_name": "Python 3",
   "language": "python",
   "name": "python3"
  },
  "language_info": {
   "codemirror_mode": {
    "name": "ipython",
    "version": 3
   },
   "file_extension": ".py",
   "mimetype": "text/x-python",
   "name": "python",
   "nbconvert_exporter": "python",
   "pygments_lexer": "ipython3",
   "version": "3.5.3"
  }
 },
 "nbformat": 4,
 "nbformat_minor": 2
}
