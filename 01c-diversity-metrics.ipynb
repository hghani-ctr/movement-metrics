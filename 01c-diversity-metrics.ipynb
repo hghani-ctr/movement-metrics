{
 "cells": [
  {
   "cell_type": "code",
   "execution_count": 6,
   "metadata": {},
   "outputs": [],
   "source": [
    "import pandas as pd\n",
    "from wmfdata import hive\n",
    "from wmfdata.utils import pct_str"
   ]
  },
  {
   "cell_type": "markdown",
   "metadata": {},
   "source": [
    "## Global South new editor retention"
   ]
  },
  {
   "cell_type": "code",
   "execution_count": 7,
   "metadata": {},
   "outputs": [
    {
     "data": {
      "text/html": [
       "<div>\n",
       "<style scoped>\n",
       "    .dataframe tbody tr th:only-of-type {\n",
       "        vertical-align: middle;\n",
       "    }\n",
       "\n",
       "    .dataframe tbody tr th {\n",
       "        vertical-align: top;\n",
       "    }\n",
       "\n",
       "    .dataframe thead th {\n",
       "        text-align: right;\n",
       "    }\n",
       "</style>\n",
       "<table border=\"1\" class=\"dataframe\">\n",
       "  <thead>\n",
       "    <tr style=\"text-align: right;\">\n",
       "      <th></th>\n",
       "      <th>partition</th>\n",
       "    </tr>\n",
       "  </thead>\n",
       "  <tbody>\n",
       "    <tr>\n",
       "      <th>0</th>\n",
       "      <td>month=2018-11</td>\n",
       "    </tr>\n",
       "    <tr>\n",
       "      <th>1</th>\n",
       "      <td>month=2018-12</td>\n",
       "    </tr>\n",
       "    <tr>\n",
       "      <th>2</th>\n",
       "      <td>month=2019-01</td>\n",
       "    </tr>\n",
       "  </tbody>\n",
       "</table>\n",
       "</div>"
      ],
      "text/plain": [
       "       partition\n",
       "0  month=2018-11\n",
       "1  month=2018-12\n",
       "2  month=2019-01"
      ]
     },
     "execution_count": 7,
     "metadata": {},
     "output_type": "execute_result"
    }
   ],
   "source": [
    "hive.run(\"show partitions wmf.geoeditors_daily\")"
   ]
  },
  {
   "cell_type": "code",
   "execution_count": 8,
   "metadata": {},
   "outputs": [],
   "source": [
    "# The new_editor table must be updated for the cohort month (using 01b-new_editor_table.ipynb)\n",
    "# before this can be successfully run \n",
    "gs_new_editors = hive.run(\"\"\"\n",
    "select \n",
    "    user_name, \n",
    "    wiki,\n",
    "    1st_month_edits,\n",
    "    2nd_month_edits\n",
    "from neilpquinn.new_editors ne\n",
    "left join wmf.geoeditors_daily gd\n",
    "on\n",
    "    ne.user_id = gd.user_fingerprint_or_id and\n",
    "    ne.wiki = gd.wiki_db and\n",
    "    ne.cohort = gd.month\n",
    "left join canonical_data.countries cdc\n",
    "on gd.country_code = cdc.iso_code\n",
    "where\n",
    "    ne.cohort = \"{retention_cohort}\" and\n",
    "    -- gd.month = \"{retention_cohort}\" and\n",
    "    economic_region = \"Global South\"\n",
    "group by user_name, wiki, 1st_month_edits, 2nd_month_edits\n",
    "\"\"\".format(\n",
    "    retention_cohort=\"2018-11\"\n",
    "))"
   ]
  },
  {
   "cell_type": "code",
   "execution_count": 9,
   "metadata": {},
   "outputs": [
    {
     "name": "stdout",
     "output_type": "stream",
     "text": [
      "3.8%\n"
     ]
    }
   ],
   "source": [
    "gs_second_mo_eds = gs_new_editors[lambda df: df[\"2nd_month_edits\"] >= 1]\n",
    "print(pct_str(len(gs_second_mo_eds) / len(gs_new_editors)))"
   ]
  },
  {
   "cell_type": "code",
   "execution_count": null,
   "metadata": {},
   "outputs": [],
   "source": []
  }
 ],
 "metadata": {
  "kernelspec": {
   "display_name": "Python 3",
   "language": "python",
   "name": "python3"
  },
  "language_info": {
   "codemirror_mode": {
    "name": "ipython",
    "version": 3
   },
   "file_extension": ".py",
   "mimetype": "text/x-python",
   "name": "python",
   "nbconvert_exporter": "python",
   "pygments_lexer": "ipython3",
   "version": "3.5.3"
  }
 },
 "nbformat": 4,
 "nbformat_minor": 2
}
