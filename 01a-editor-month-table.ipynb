{
 "cells": [
  {
   "cell_type": "code",
   "execution_count": 1,
   "metadata": {
    "scrolled": true
   },
   "outputs": [
    {
     "name": "stderr",
     "output_type": "stream",
     "text": [
      "You can find the source for `wmfdata` at https://github.com/neilpquinn/wmfdata\n"
     ]
    }
   ],
   "source": [
    "import matplotlib as mpl\n",
    "import matplotlib.pyplot as plt\n",
    "import pandas as pd\n",
    "from wmfdata import mariadb, charting\n",
    "from wmfdata.utils import print_err"
   ]
  },
  {
   "cell_type": "code",
   "execution_count": 2,
   "metadata": {},
   "outputs": [],
   "source": [
    "%matplotlib inline\n",
    "charting.set_mpl_style()"
   ]
  },
  {
   "cell_type": "code",
   "execution_count": 3,
   "metadata": {},
   "outputs": [],
   "source": [
    "# CHANGE THIS FOR A NEW MONTH!\n",
    "# The time range for which to update. START is included, END is excluded.\n",
    "START = \"201812\"\n",
    "END = \"201901\""
   ]
  },
  {
   "cell_type": "markdown",
   "metadata": {},
   "source": [
    "# Update table"
   ]
  },
  {
   "cell_type": "code",
   "execution_count": null,
   "metadata": {},
   "outputs": [
    {
     "name": "stderr",
     "output_type": "stream",
     "text": [
      "aawiki completed in 0 s\n",
      "aawikibooks completed in 0 s\n",
      "aawiktionary completed in 0 s\n",
      "abwiki completed in 0 s\n",
      "abwiktionary completed in 0 s\n",
      "acewiki completed in 0 s\n",
      "adywiki completed in 0 s\n",
      "afwiki completed in 2 s\n",
      "afwikibooks completed in 0 s\n",
      "afwikiquote completed in 0 s\n",
      "afwiktionary completed in 0 s\n",
      "akwiki completed in 0 s\n",
      "akwikibooks completed in 0 s\n",
      "akwiktionary completed in 0 s\n",
      "alswiki completed in 1 s\n",
      "amwiki completed in 0 s\n",
      "amwikiquote completed in 0 s\n",
      "amwiktionary completed in 0 s\n",
      "angwiki completed in 0 s\n",
      "angwikibooks completed in 0 s\n",
      "angwikiquote completed in 0 s\n",
      "angwikisource completed in 0 s\n",
      "angwiktionary completed in 0 s\n",
      "anwiki completed in 1 s\n",
      "anwiktionary completed in 0 s\n",
      "arcwiki completed in 0 s\n",
      "arwiki completed in 746 s\n",
      "arwikibooks completed in 1 s\n",
      "arwikinews completed in 1 s\n",
      "arwikiquote completed in 1 s\n",
      "arwikisource completed in 1 s\n"
     ]
    }
   ],
   "source": [
    "# Create table if necessary\n",
    "mariadb.run(\"\"\"\n",
    "CREATE TABLE IF NOT EXISTS staging.editor_month (\n",
    "  `wiki` varbinary(255) NOT NULL,\n",
    "  `month` date NOT NULL,\n",
    "  `local_user_id` int(10) unsigned NOT NULL,\n",
    "  `user_name` varbinary(255) NOT NULL DEFAULT '',\n",
    "  `edits` int(10) unsigned NOT NULL DEFAULT '0',\n",
    "  `content_edits` int(10) unsigned NOT NULL DEFAULT '0',\n",
    "  `deleted_edits` int(10) unsigned NOT NULL DEFAULT '0',\n",
    "  `mobile_web_edits` int(10) unsigned NOT NULL DEFAULT '0',\n",
    "  `mobile_app_edits` int(10) unsigned NOT NULL DEFAULT '0',\n",
    "  `visual_edits` int(10) unsigned NOT NULL DEFAULT '0',\n",
    "  `ve_source_edits` int(10) unsigned NOT NULL DEFAULT '0',\n",
    "  `bot_flag` tinyint(1) NOT NULL DEFAULT '0',\n",
    "  `user_registration` datetime DEFAULT NULL,\n",
    "  PRIMARY KEY (`wiki`,`month`,`local_user_id`),\n",
    "  KEY `wiki_user` (`wiki`,`user_name`),\n",
    "  KEY `user_name` (`user_name`),\n",
    "  KEY `month_wiki` (`month`,`wiki`)\n",
    ") \n",
    "ENGINE=InnoDB\n",
    "DEFAULT CHARSET=binary\n",
    "COMMENT='See documentation at https://meta.wikimedia.org/wiki/Research:Editor_month_dataset' \n",
    "\"\"\")\n",
    "\n",
    "# Get the SQL update command from the file.\n",
    "with open(\"queries/update_editor_month.sql\") as f:\n",
    "    update_cmd = f.read()\n",
    "\n",
    "# Updated data is constantly inserted into the MariaDB replicas. We don't want these operations\n",
    "# to block that.\n",
    "isolate_cmd = \"set session transaction isolation level read uncommitted;\"\n",
    "update_cmd = update_cmd.format(start=START, end=END)\n",
    "\n",
    "# Select and insert the new rows from each wiki\n",
    "mariadb.multirun([isolate_cmd, update_cmd])"
   ]
  },
  {
   "cell_type": "markdown",
   "metadata": {},
   "source": [
    "# Quality checks"
   ]
  },
  {
   "cell_type": "code",
   "execution_count": null,
   "metadata": {},
   "outputs": [],
   "source": [
    "editors = mariadb.run(\"\"\"\n",
    "select\n",
    "    month,\n",
    "    count(*) as editors,\n",
    "    sum(content_edits >= 100) as very_active_editors\n",
    "from staging.editor_month \n",
    "where month >= \"2015-10-01\"\n",
    "group by month\n",
    "\"\"\")\n",
    "\n",
    "editors = (\n",
    "    editors\n",
    "    .assign(month=lambda df: pd.to_datetime(df[\"month\"]))\n",
    "    .set_index(\"month\")\n",
    ")\n",
    "\n",
    "editors.tail()"
   ]
  },
  {
   "cell_type": "code",
   "execution_count": null,
   "metadata": {},
   "outputs": [],
   "source": [
    "editors[\"editors\"].plot(ylim=0)"
   ]
  },
  {
   "cell_type": "code",
   "execution_count": null,
   "metadata": {},
   "outputs": [],
   "source": [
    "editors[\"very_active_editors\"].plot(ylim=0)"
   ]
  },
  {
   "cell_type": "code",
   "execution_count": null,
   "metadata": {},
   "outputs": [],
   "source": [
    "editors_per_wiki = mariadb.run(\"\"\"\n",
    "select\n",
    "    month,\n",
    "    wiki,\n",
    "    count(*) as editors \n",
    "from staging.editor_month \n",
    "where\n",
    "    month >= \"2017-11-01\" and\n",
    "    wiki in (\"arwiki\", \"dewiki\", \"enwiki\", \"kowiki\", \"zhwiki\")\n",
    "group by wiki, month\n",
    "\"\"\")\n",
    "\n",
    "editors_per_wiki = (\n",
    "    editors_per_wiki\n",
    "    .assign(month=lambda df: pd.to_datetime(df[\"month\"]))\n",
    "    .set_index(\"month\")\n",
    "    .pivot(columns=\"wiki\")\n",
    "    .xs(\"editors\", axis=1)\n",
    ")\n",
    "\n",
    "editors_per_wiki.tail()"
   ]
  },
  {
   "cell_type": "code",
   "execution_count": null,
   "metadata": {},
   "outputs": [],
   "source": [
    "editors_per_wiki[\"enwiki\"].plot(ylim=0);"
   ]
  },
  {
   "cell_type": "code",
   "execution_count": null,
   "metadata": {},
   "outputs": [],
   "source": [
    "editors_per_wiki.drop(\"enwiki\", axis=1).plot(ylim=0);"
   ]
  }
 ],
 "metadata": {
  "kernelspec": {
   "display_name": "Python 3",
   "language": "python",
   "name": "python3"
  },
  "language_info": {
   "codemirror_mode": {
    "name": "ipython",
    "version": 3
   },
   "file_extension": ".py",
   "mimetype": "text/x-python",
   "name": "python",
   "nbconvert_exporter": "python",
   "pygments_lexer": "ipython3",
   "version": "3.5.3"
  }
 },
 "nbformat": 4,
 "nbformat_minor": 2
}
